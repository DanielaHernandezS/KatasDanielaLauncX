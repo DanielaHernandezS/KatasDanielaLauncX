{
 "cells": [
  {
   "cell_type": "markdown",
   "metadata": {},
   "source": [
    "# Ejercicio uno\n",
    "Daniela Hernandez "
   ]
  },
  {
   "cell_type": "code",
   "execution_count": 5,
   "metadata": {},
   "outputs": [
    {
     "name": "stdout",
     "output_type": "stream",
     "text": [
      "el promedio de los tres tanques es: 67.67\n",
      "Reporte de cada tanque:\n",
      "    Tanque 1: 90%\n",
      "    Tanque 2: 35%\n",
      "    Tanque 3: 78% \n",
      "    \n"
     ]
    }
   ],
   "source": [
    "#tanques de cobustible\n",
    "def tanques(tanque1,tanque2,tanque3):\n",
    "    promedio = (tanque1+tanque2+tanque3)/3\n",
    "    print(\"el promedio de los tres tanques es:\", round(promedio,2))\n",
    "    print(f\"\"\"Reporte de cada tanque:\n",
    "    Tanque 1: {tanque1}%\n",
    "    Tanque 2: {tanque2}%\n",
    "    Tanque 3: {tanque3}% \n",
    "    \"\"\")\n",
    "tanques(90,35,78)"
   ]
  },
  {
   "cell_type": "code",
   "execution_count": 9,
   "metadata": {},
   "outputs": [
    {
     "name": "stdout",
     "output_type": "stream",
     "text": [
      "67.67\n",
      "el promedio de los tres tanques es: None\n",
      "Reporte de cada tanque:\n",
      "    Tanque 1: 90%\n",
      "    Tanque 2: 35%\n",
      "    Tanque 3: 78% \n",
      "    \n"
     ]
    }
   ],
   "source": [
    "#funcion para el promedio \n",
    "def promedio(valores):\n",
    "    suma = sum(valores)\n",
    "    items = len(valores)\n",
    "    print(round(suma/items,2))\n",
    "#lo integramos a nuestra pasada funcion \n",
    "def tanques(tanque1,tanque2,tanque3):\n",
    "    promedios = promedio([tanque1,tanque2,tanque3])\n",
    "    print(\"el promedio de los tres tanques es:\", promedios)\n",
    "    print(f\"\"\"Reporte de cada tanque:\n",
    "    Tanque 1: {tanque1}%\n",
    "    Tanque 2: {tanque2}%\n",
    "    Tanque 3: {tanque3}% \n",
    "    \"\"\")\n",
    "tanques(90,35,78)"
   ]
  },
  {
   "cell_type": "markdown",
   "metadata": {},
   "source": [
    "# Ejercicio 2"
   ]
  },
  {
   "cell_type": "code",
   "execution_count": 12,
   "metadata": {},
   "outputs": [
    {
     "name": "stdout",
     "output_type": "stream",
     "text": [
      "\n",
      "    tiempo total de viaje: 65\n",
      "    combustible a la izquierda500000\n",
      "    destino: Moon\n",
      "    \n"
     ]
    }
   ],
   "source": [
    "# Función con un informe preciso de la misión. Considera hora de prelanzamiento, tiempo de vuelo, destino, tanque externo y tanque interno\n",
    "def reporte(prelanzamieto,tiempo_v,detsino,tanque_e,tanque_i):\n",
    "    print(f\"\"\"\n",
    "    tiempo total de viaje: {prelanzamieto+tiempo_v}\n",
    "    combustible a la izquierda{tanque_e+tanque_i}\n",
    "    destino: {detsino}\n",
    "    \"\"\")\n",
    "reporte(14, 51, \"Moon\", 200000, 300000)"
   ]
  },
  {
   "cell_type": "code",
   "execution_count": 21,
   "metadata": {},
   "outputs": [
    {
     "name": "stdout",
     "output_type": "stream",
     "text": [
      "\n",
      "    tiempo total de viaje: 76\n",
      "    combustible a la izquierda500000\n",
      "    destino: Moon\n",
      "    \n"
     ]
    }
   ],
   "source": [
    "#funcion para adaptar a daros adicionales \n",
    "def reporte(destino,*minutos,**tanque):\n",
    "    print(f\"\"\"\n",
    "    tiempo total de viaje: {sum(minutos)}\n",
    "    combustible a la izquierda{sum(tanque.values())}\n",
    "    destino: {destino}\n",
    "    \"\"\")\n",
    "reporte(\"Moon\", 10, 15, 51, main=300000, external=200000)"
   ]
  },
  {
   "cell_type": "code",
   "execution_count": 23,
   "metadata": {},
   "outputs": [
    {
     "name": "stdout",
     "output_type": "stream",
     "text": [
      "\n",
      "    tiempo total de viaje: 74\n",
      "    combustible a la izquierda500000\n",
      "    destino: Moon\n",
      "    main tanque --> 300000 galones izquierda\n",
      "external tanque --> 200000 galones izquierda\n",
      "\n"
     ]
    }
   ],
   "source": [
    "#funcion para tanques separados \n",
    "def reporte(destino,*minutos,**tanque):\n",
    "    reportes = f\"\"\"\n",
    "    tiempo total de viaje: {sum(minutos)}\n",
    "    combustible a la izquierda{sum(tanque.values())}\n",
    "    destino: {destino}\n",
    "    \"\"\"\n",
    "    for tanque_n, galones in tanque.items():\n",
    "        reportes += f\"{tanque_n} tanque --> {galones} galones izquierda\\n\"\n",
    "    print(reportes)\n",
    "reporte(\"Moon\", 8, 11, 55, main=300000, external=200000)"
   ]
  }
 ],
 "metadata": {
  "interpreter": {
   "hash": "c6be7bc00b96a3794c010c8ef5aebf597ee3cd09ceae47b54f89fa7f05eacf32"
  },
  "kernelspec": {
   "display_name": "Python 3.10.2 64-bit",
   "language": "python",
   "name": "python3"
  },
  "language_info": {
   "codemirror_mode": {
    "name": "ipython",
    "version": 3
   },
   "file_extension": ".py",
   "mimetype": "text/x-python",
   "name": "python",
   "nbconvert_exporter": "python",
   "pygments_lexer": "ipython3",
   "version": "3.10.2"
  },
  "orig_nbformat": 4
 },
 "nbformat": 4,
 "nbformat_minor": 2
}
