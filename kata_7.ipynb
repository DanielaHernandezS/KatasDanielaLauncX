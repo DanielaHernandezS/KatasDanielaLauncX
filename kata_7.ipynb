{
 "cells": [
  {
   "cell_type": "markdown",
   "metadata": {},
   "source": [
    "# Ejercicio 1\n",
    "Daniela Hernandez "
   ]
  },
  {
   "cell_type": "code",
   "execution_count": 2,
   "metadata": {},
   "outputs": [
    {
     "name": "stdout",
     "output_type": "stream",
     "text": [
      "['marte', 'jupiter', 'tierra']\n"
     ]
    }
   ],
   "source": [
    "#creamos variables \n",
    "new_planet= \"\"\n",
    "planets = []\n",
    "#Ciclo while \n",
    "while new_planet.lower() != \"done\":\n",
    "    if new_planet:\n",
    "        planets.append(new_planet)\n",
    "    new_planet = input(\"Ingresar el nombre de un planeta (para terminar la lista increse done) \")\n",
    "print(planets)\n"
   ]
  },
  {
   "cell_type": "markdown",
   "metadata": {},
   "source": [
    "# Ejercicio dos"
   ]
  },
  {
   "cell_type": "code",
   "execution_count": 4,
   "metadata": {},
   "outputs": [
    {
     "name": "stdout",
     "output_type": "stream",
     "text": [
      "saturno\n",
      "urano\n",
      "tierra\n",
      "Son tu lista de planetas!!\n"
     ]
    }
   ],
   "source": [
    "#creamos variables \n",
    "new_planet= \"\"\n",
    "planets = []\n",
    "#Ciclo while \n",
    "while new_planet.lower() != \"done\":\n",
    "    if new_planet:\n",
    "        planets.append(new_planet)\n",
    "    new_planet = input(\"Ingresar el nombre de un planeta (para terminar la lista increse done) \")\n",
    "from time import sleep #importamos la clase sleep\n",
    "for planet in planets:\n",
    "    print(planet)\n",
    "\n",
    "    sleep(1) #para que espere un segundo entre cada numero\n",
    "print(\"Son tu lista de planetas!!\")\n",
    "\n"
   ]
  }
 ],
 "metadata": {
  "interpreter": {
   "hash": "c6be7bc00b96a3794c010c8ef5aebf597ee3cd09ceae47b54f89fa7f05eacf32"
  },
  "kernelspec": {
   "display_name": "Python 3.10.2 64-bit",
   "language": "python",
   "name": "python3"
  },
  "language_info": {
   "codemirror_mode": {
    "name": "ipython",
    "version": 3
   },
   "file_extension": ".py",
   "mimetype": "text/x-python",
   "name": "python",
   "nbconvert_exporter": "python",
   "pygments_lexer": "ipython3",
   "version": "3.10.2"
  },
  "orig_nbformat": 4
 },
 "nbformat": 4,
 "nbformat_minor": 2
}
