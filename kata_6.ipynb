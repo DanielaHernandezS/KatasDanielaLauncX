{
 "cells": [
  {
   "cell_type": "markdown",
   "metadata": {},
   "source": [
    "# Ejercicio uno \n",
    "Daniela Hernandez \n"
   ]
  },
  {
   "cell_type": "code",
   "execution_count": 3,
   "metadata": {},
   "outputs": [
    {
     "name": "stdout",
     "output_type": "stream",
     "text": [
      "Son 8 planetas\n",
      "Ahora son 9 y Pluto es el ultimo\n"
     ]
    }
   ],
   "source": [
    "#creamos una lista \n",
    "planets = ['Mercury', 'Venus', 'Earth', 'Mars', 'Jupiter', 'Saturn', 'Uranus', 'Neptune']\n",
    "\n",
    "print(\"Son\", len(planets), \"planetas\")\n",
    "\n",
    "#agrego a pluton \n",
    "planets.append('Pluto')\n",
    "print(\"Ahora son\", len(planets), \"y\", planets[8], \"es el ultimo\")\n"
   ]
  },
  {
   "cell_type": "markdown",
   "metadata": {},
   "source": [
    "# Ejercicio dos"
   ]
  },
  {
   "cell_type": "code",
   "execution_count": 4,
   "metadata": {},
   "outputs": [
    {
     "name": "stdout",
     "output_type": "stream",
     "text": [
      "Los planetas mas cercanos a Mars son: \n",
      "['Mercury', 'Venus', 'Earth']\n",
      "Los planetas mas lejanos a Mars son: \n",
      "['Jupiter', 'Saturn', 'Neptune']\n"
     ]
    }
   ],
   "source": [
    "#creamos una lista \n",
    "planets = ['Mercury', 'Venus', 'Earth', 'Mars', 'Jupiter', 'Saturn', 'Neptune']\n",
    "\n",
    "#solicitamos nombre de un planeta \n",
    "nombre_p = input(\"Que planeta decea encontrar? (escriba la primera letra en mayuscula)\")\n",
    "planet_i = planets.index(nombre_p)\n",
    "\n",
    "#Mas cercano al sol \n",
    "print(\"Los planetas mas cercanos a\", nombre_p, \"son: \")\n",
    "print(planets[0:planet_i])\n",
    "\n",
    "#Mas lejano \n",
    "print(\"Los planetas mas lejanos a\", nombre_p, \"son: \")\n",
    "print(planets[planet_i+1:])"
   ]
  }
 ],
 "metadata": {
  "interpreter": {
   "hash": "c6be7bc00b96a3794c010c8ef5aebf597ee3cd09ceae47b54f89fa7f05eacf32"
  },
  "kernelspec": {
   "display_name": "Python 3.10.2 64-bit",
   "language": "python",
   "name": "python3"
  },
  "language_info": {
   "codemirror_mode": {
    "name": "ipython",
    "version": 3
   },
   "file_extension": ".py",
   "mimetype": "text/x-python",
   "name": "python",
   "nbconvert_exporter": "python",
   "pygments_lexer": "ipython3",
   "version": "3.10.2"
  },
  "orig_nbformat": 4
 },
 "nbformat": 4,
 "nbformat_minor": 2
}
