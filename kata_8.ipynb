{
 "cells": [
  {
   "cell_type": "markdown",
   "metadata": {},
   "source": [
    "# Ejercicio uno\n",
    "Daniela Hernandez "
   ]
  },
  {
   "cell_type": "code",
   "execution_count": 9,
   "metadata": {},
   "outputs": [
    {
     "name": "stdout",
     "output_type": "stream",
     "text": [
      "Mars\n",
      "tiene 2 lunas\n",
      "Mars polar diameter: 6752\n"
     ]
    }
   ],
   "source": [
    "#creamos un diccionario\n",
    "planet = {\n",
    "    'name': 'Mars',\n",
    "    'moons': 2\n",
    "}\n",
    "#Recuperar valores de diccionario \n",
    "print(planet['name'])\n",
    "print(\"tiene\", planet['moons'], \"lunas\")\n",
    "\n",
    "#creamos un dicionario dentro del diccionario\n",
    "planet['circunferencia (km)'] = {\n",
    "    'polar': 6752,\n",
    "    'equatorial': 6792\n",
    "}\n",
    "#imprimir sus valores \n",
    "print(f\"{planet['name']} polar diameter: {planet['circunferencia (km)']['polar']}\")"
   ]
  },
  {
   "cell_type": "markdown",
   "metadata": {},
   "source": [
    "# Ejercicio dos"
   ]
  },
  {
   "cell_type": "code",
   "execution_count": 16,
   "metadata": {},
   "outputs": [
    {
     "name": "stdout",
     "output_type": "stream",
     "text": [
      "12\n",
      "17.83\n"
     ]
    }
   ],
   "source": [
    "#creamos un diccionario \n",
    "planet_moons = {\n",
    "    'mercury': 0,\n",
    "    'venus': 0,\n",
    "    'earth': 1,\n",
    "    'mars': 2,\n",
    "    'jupiter': 79,\n",
    "    'saturn': 82,\n",
    "    'uranus': 27,\n",
    "    'neptune': 14,\n",
    "    'pluto': 5,\n",
    "    'haumea': 2,\n",
    "    'makemake': 1,\n",
    "    'eris': 1\n",
    "}\n",
    "\n",
    "#determinar numero de lunas \n",
    "#almacenamos values de planet_moons en la variable moons\n",
    "moons = planet_moons.values()\n",
    "#se almacena el numero de planetas en planets \n",
    "planets = len(planet_moons.keys())\n",
    "print(planets)\n",
    "\n",
    "#contar el numero de lunas con ciclo for\n",
    "total_moons = 0\n",
    "for moon in moons:   \n",
    "   \n",
    "    total_moons = total_moons + moon\n",
    "#promediamos\n",
    "promedio = total_moons/planets\n",
    "\n",
    "print(round(promedio,2))\n"
   ]
  }
 ],
 "metadata": {
  "interpreter": {
   "hash": "c6be7bc00b96a3794c010c8ef5aebf597ee3cd09ceae47b54f89fa7f05eacf32"
  },
  "kernelspec": {
   "display_name": "Python 3.10.2 64-bit",
   "language": "python",
   "name": "python3"
  },
  "language_info": {
   "codemirror_mode": {
    "name": "ipython",
    "version": 3
   },
   "file_extension": ".py",
   "mimetype": "text/x-python",
   "name": "python",
   "nbconvert_exporter": "python",
   "pygments_lexer": "ipython3",
   "version": "3.10.2"
  },
  "orig_nbformat": 4
 },
 "nbformat": 4,
 "nbformat_minor": 2
}
