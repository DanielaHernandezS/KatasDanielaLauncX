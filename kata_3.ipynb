{
 "cells": [
  {
   "cell_type": "markdown",
   "metadata": {},
   "source": [
    "# Primer ejercicio \n",
    "Daniela Hernandez "
   ]
  },
  {
   "cell_type": "code",
   "execution_count": 1,
   "metadata": {},
   "outputs": [
    {
     "name": "stdout",
     "output_type": "stream",
     "text": [
      "El asteroide va demaciado rapido PELIGRO\n"
     ]
    }
   ],
   "source": [
    "#Asteroide con velocidad myor a 25 km por hora es peligroso \n",
    "asteroide = 49\n",
    "if asteroide > 25: \n",
    "    print(\"El asteroide va demaciado rapido PELIGRO\")\n",
    "else: \n",
    "    print(\"Velocidad segura. sigue con tu dia\")"
   ]
  },
  {
   "cell_type": "markdown",
   "metadata": {},
   "source": [
    "# Ejercicio dos "
   ]
  },
  {
   "cell_type": "code",
   "execution_count": null,
   "metadata": {},
   "outputs": [],
   "source": [
    "#Asteroide con brillo\n",
    "asteroide = 20 \n",
    "if asteroide > 20: \n",
    "    print(\"Mira al cielo!! se ve la luz del asteoride!\")\n",
    "elif asteroide == 20: \n",
    "    print(\"Mira al cielo!!! se ve la luz del asteroide!!!\")\n",
    "else: \n",
    "    print(\"Nada que ver, sigue caminando\")"
   ]
  },
  {
   "cell_type": "markdown",
   "metadata": {},
   "source": [
    "# Ejercicio tres "
   ]
  },
  {
   "cell_type": "code",
   "execution_count": 1,
   "metadata": {},
   "outputs": [
    {
     "name": "stdout",
     "output_type": "stream",
     "text": [
      "Mira el cielo! se ve la luz del asteroide\n"
     ]
    }
   ],
   "source": [
    "velocidad =  25\n",
    "dimencion = 40\n",
    "if dimencion > 25 and velocidad > 25: \n",
    "    print(\"El asteroide se considera peligroso ALERTA \")\n",
    "elif velocidad >= 20: \n",
    "    print(\"Mira el cielo! se ve la luz del asteroide\")\n",
    "elif dimencion < 25: \n",
    "    print(\"Nada que ver, sigue caminando\")\n",
    "else: \n",
    "    print(\"Nada que ver, sigue caminando\")"
   ]
  }
 ],
 "metadata": {
  "interpreter": {
   "hash": "059fa6ccf6068df780eb799299cbf78c2496b45702a26895cea759345f6b8196"
  },
  "kernelspec": {
   "display_name": "Python 3.10.2 64-bit (windows store)",
   "language": "python",
   "name": "python3"
  },
  "language_info": {
   "codemirror_mode": {
    "name": "ipython",
    "version": 3
   },
   "file_extension": ".py",
   "mimetype": "text/x-python",
   "name": "python",
   "nbconvert_exporter": "python",
   "pygments_lexer": "ipython3",
   "version": "3.10.2"
  },
  "orig_nbformat": 4
 },
 "nbformat": 4,
 "nbformat_minor": 2
}
